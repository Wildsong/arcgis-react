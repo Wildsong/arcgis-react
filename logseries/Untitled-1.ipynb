{
 "cells": [
  {
   "cell_type": "code",
   "execution_count": 19,
   "metadata": {},
   "outputs": [
    {
     "ename": "TypeError",
     "evalue": "can't subtract offset-naive and offset-aware datetimes",
     "output_type": "error",
     "traceback": [
      "\u001b[1;31m---------------------------------------------------------------------------\u001b[0m",
      "\u001b[1;31mTypeError\u001b[0m                                 Traceback (most recent call last)",
      "Cell \u001b[1;32mIn[19], line 14\u001b[0m\n\u001b[0;32m     12\u001b[0m logtime \u001b[38;5;241m=\u001b[39m l[\u001b[38;5;241m0\u001b[39m] \u001b[38;5;241m+\u001b[39m \u001b[38;5;124m'\u001b[39m\u001b[38;5;124m \u001b[39m\u001b[38;5;124m'\u001b[39m \u001b[38;5;241m+\u001b[39m l[\u001b[38;5;241m1\u001b[39m]\n\u001b[0;32m     13\u001b[0m dtutc \u001b[38;5;241m=\u001b[39m datetime\u001b[38;5;241m.\u001b[39mfromisoformat(logtime)\u001b[38;5;241m.\u001b[39mreplace(tzinfo\u001b[38;5;241m=\u001b[39mtimezone\u001b[38;5;241m.\u001b[39mutc)\n\u001b[1;32m---> 14\u001b[0m \u001b[43mutc2local\u001b[49m\u001b[43m(\u001b[49m\u001b[43mdtutc\u001b[49m\u001b[43m)\u001b[49m\n",
      "Cell \u001b[1;32mIn[19], line 6\u001b[0m, in \u001b[0;36mutc2local\u001b[1;34m(utc)\u001b[0m\n\u001b[0;32m      4\u001b[0m \u001b[38;5;28;01mdef\u001b[39;00m \u001b[38;5;21mutc2local\u001b[39m(utc):\n\u001b[0;32m      5\u001b[0m     epoch \u001b[38;5;241m=\u001b[39m time\u001b[38;5;241m.\u001b[39mmktime(utc\u001b[38;5;241m.\u001b[39mtimetuple())\n\u001b[1;32m----> 6\u001b[0m     offset \u001b[38;5;241m=\u001b[39m \u001b[43mdatetime\u001b[49m\u001b[38;5;241;43m.\u001b[39;49m\u001b[43mfromtimestamp\u001b[49m\u001b[43m(\u001b[49m\u001b[43mepoch\u001b[49m\u001b[43m)\u001b[49m\u001b[43m \u001b[49m\u001b[38;5;241;43m-\u001b[39;49m\u001b[43m \u001b[49m\u001b[43mdatetime\u001b[49m\u001b[38;5;241;43m.\u001b[39;49m\u001b[43mfromtimestamp\u001b[49m\u001b[43m(\u001b[49m\u001b[43mepoch\u001b[49m\u001b[43m,\u001b[49m\u001b[43m \u001b[49m\u001b[43mtz\u001b[49m\u001b[38;5;241;43m=\u001b[39;49m\u001b[43mtimezone\u001b[49m\u001b[38;5;241;43m.\u001b[39;49m\u001b[43mutc\u001b[49m\u001b[43m)\u001b[49m\n\u001b[0;32m      7\u001b[0m     \u001b[38;5;28;01mreturn\u001b[39;00m utc \u001b[38;5;241m+\u001b[39m offset\n",
      "\u001b[1;31mTypeError\u001b[0m: can't subtract offset-naive and offset-aware datetimes"
     ]
    }
   ],
   "source": [
    "from datetime import datetime, timezone\n",
    "\n",
    "def local2utc(t):\n",
    "    \"\"\" Change a datetime object from local to UTC \"\"\"\n",
    "\n",
    "    # I'm not sure but maybe I should just set tzinfo here too??\n",
    "    # tzinfo = timezone.utc\n",
    "    return t.astimezone(timezone.utc).replace(microsecond=0, second=0)\n",
    "\n",
    "# IIS logs are in UTC, convert to local\n",
    "line = '2024-05-15 00:06:47 W3SVC1 10.10.10.148 GET /apps/ClatsopCounty/dynamic-modules/preload.js wab_dv=2.29 443 - 172.56.153.142 Mozilla/5.0+(Linux;+Android+10;+K)+AppleWebKit/537.36+(KHTML,+like+Gecko)+Chrome/124.0.0.0+Mobile+Safari/537.36 https://delta.co.clatsop.or.us/apps/ClatsopCounty/ 200 0 0 37'\n",
    "l = line.split(' ')\n",
    "logtime = l[0] + ' ' + l[1]\n",
    "dtutc = datetime.fromisoformat(logtime).replace(tzinfo=timezone.utc)\n",
    "utc2local(dtutc)"
   ]
  },
  {
   "cell_type": "code",
   "execution_count": 25,
   "metadata": {},
   "outputs": [
    {
     "name": "stdout",
     "output_type": "stream",
     "text": [
      "2024-05-15 23:42:00+00:00\n"
     ]
    }
   ],
   "source": [
    "from datetime import datetime, timezone\n",
    "from dateutil import tz\n",
    "\n",
    "tzlocal = tz.gettz('Americas/Los_Angeles')\n",
    "\n",
    "def l2utc(t):\n",
    "    \"\"\" Change a datetime object from local to UTC \"\"\"\n",
    "\n",
    "    # I'm not sure but maybe I should just set tzinfo here too??\n",
    "    # tzinfo = timezone.utc\n",
    "    return t.astimezone(timezone.utc).replace(microsecond=0, second=0)\n",
    "\n",
    "# Esri logs are in local time\n",
    "line = '<Msg time=\"2024-05-15T16:42:05,845\" type=\"SEVERE\" code=\"9002\" source=\"Rest\" process=\"12700\" thread=\"1\" methodName=\"\" machine=\"CC-GISSERVER.CLATSOP.CO.CLATSOP.OR.US\" user=\"\" elapsed=\"\" requestID=\"e7bacef4-ae66-428c-9779-768e96474694\">This exception was thrown after the response was committed. Access to this resource is not allowed</Msg>'\n",
    "l = line.split(' ')[1]\n",
    "logtime = l[6:-5]\n",
    "dt = datetime.fromisoformat(logtime).replace(tzinfo=tzlocal)\n",
    "dtutc = l2utc(dt)\n",
    "print(dtutc)\n"
   ]
  }
 ],
 "metadata": {
  "kernelspec": {
   "display_name": "arctic",
   "language": "python",
   "name": "python3"
  },
  "language_info": {
   "codemirror_mode": {
    "name": "ipython",
    "version": 3
   },
   "file_extension": ".py",
   "mimetype": "text/x-python",
   "name": "python",
   "nbconvert_exporter": "python",
   "pygments_lexer": "ipython3",
   "version": "3.11.9"
  }
 },
 "nbformat": 4,
 "nbformat_minor": 2
}
